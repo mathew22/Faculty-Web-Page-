{
  "nbformat": 4,
  "nbformat_minor": 0,
  "metadata": {
    "colab": {
      "name": "nn1.ipynb",
      "version": "0.3.2",
      "provenance": [],
      "collapsed_sections": [],
      "include_colab_link": true
    },
    "kernelspec": {
      "name": "python2",
      "display_name": "Python 2"
    }
  },
  "cells": [
    {
      "cell_type": "markdown",
      "metadata": {
        "id": "view-in-github",
        "colab_type": "text"
      },
      "source": [
        "<a href=\"https://colab.research.google.com/github/mathew22/Faculty-Web-Page-/blob/master/nn1.ipynb\" target=\"_parent\"><img src=\"https://colab.research.google.com/assets/colab-badge.svg\" alt=\"Open In Colab\"/></a>"
      ]
    },
    {
      "metadata": {
        "id": "REyjLSsw-tEp",
        "colab_type": "code",
        "colab": {}
      },
      "cell_type": "code",
      "source": [
        "import tensorflow as tf\n",
        "from tensorflow.examples.tutorials.mnist import input_data\n",
        "import numpy as np\n",
        "import requests\n"
      ],
      "execution_count": 0,
      "outputs": []
    },
    {
      "metadata": {
        "id": "THMZ8GFS-ypK",
        "colab_type": "code",
        "colab": {
          "base_uri": "https://localhost:8080/",
          "height": 667
        },
        "outputId": "483032c4-23e8-4e1b-f8fc-a305b8ffa839"
      },
      "cell_type": "code",
      "source": [
        "\n",
        "# encoding input data \n",
        "mnist = input_data.read_data_sets(\"MNIST_data/\", one_hot=True )\n",
        "\n",
        "# network parameters\n",
        "learning_rate = 0.5\n",
        "epochs = 10\n",
        "batch_size = 100\n",
        "\n",
        "# input and ground truth label\n",
        "x = tf.placeholder( tf.float32, [None, 784], name='x')\n",
        "y = tf.placeholder( tf.float32, [None, 10], name='y')\n",
        "\n",
        "# weights and bias \n",
        "w1 = tf.Variable( tf.random_normal([ 784, 300], stddev=0.03, name='w1') )\n",
        "b1 = tf.Variable( tf.random_normal( [300], name='b1') )\n",
        "w2 = tf.Variable( tf.random_normal([300, 10], stddev=0.03, name='w2') )\n",
        "b2 = tf.Variable( tf.random_normal( [10], name='b2') )\n",
        "\n",
        "# defining layers\n",
        "h1 = tf.add( tf.matmul( x, w1 ) , b1 )\n",
        "h1 = tf.nn.relu( h1 )\n",
        "\n",
        "# prediction\n",
        "y_cap = tf.nn.softmax( tf.add( tf.matmul( h1, w2 ), b2) )\n",
        "\n",
        "#y_clip = tf.clip_by_value( y_cap, 1e-10, 0.99999999)\n",
        "y_clip = tf.clip_by_value(y_cap, 1e-10, 0.9999999)\n",
        "cross_entropy = -tf.reduce_mean( tf.reduce_sum( y * tf.log( y_clip) + ( 1- y)\\\n",
        "                                               *tf.log( 1- y_clip), axis=1) )\n",
        "\n",
        "# optimizer                   \n",
        "optimizer = tf.train.GradientDescentOptimizer( learning_rate=learning_rate).minimize( cross_entropy)\n",
        "\n",
        "# intitialize the variables\n",
        "init_op = tf.global_variables_initializer()\n",
        "\n",
        "# check correct predictions\n",
        "correct_prediction = tf.equal(tf.argmax( y,1), tf.argmax( y_cap, 1))\n",
        "accuracy = tf.reduce_mean( tf.cast( correct_prediction, tf.float32))\n"
      ],
      "execution_count": 2,
      "outputs": [
        {
          "output_type": "stream",
          "text": [
            "WARNING:tensorflow:From <ipython-input-2-74cf072bb8bc>:1: read_data_sets (from tensorflow.contrib.learn.python.learn.datasets.mnist) is deprecated and will be removed in a future version.\n",
            "Instructions for updating:\n",
            "Please use alternatives such as official/mnist/dataset.py from tensorflow/models.\n",
            "WARNING:tensorflow:From /usr/local/lib/python2.7/dist-packages/tensorflow/contrib/learn/python/learn/datasets/mnist.py:260: maybe_download (from tensorflow.contrib.learn.python.learn.datasets.base) is deprecated and will be removed in a future version.\n",
            "Instructions for updating:\n",
            "Please write your own downloading logic.\n",
            "WARNING:tensorflow:From /usr/local/lib/python2.7/dist-packages/tensorflow/contrib/learn/python/learn/datasets/base.py:252: wrapped_fn (from tensorflow.contrib.learn.python.learn.datasets.base) is deprecated and will be removed in a future version.\n",
            "Instructions for updating:\n",
            "Please use urllib or similar directly.\n",
            "Successfully downloaded train-images-idx3-ubyte.gz 9912422 bytes.\n",
            "WARNING:tensorflow:From /usr/local/lib/python2.7/dist-packages/tensorflow/contrib/learn/python/learn/datasets/mnist.py:262: extract_images (from tensorflow.contrib.learn.python.learn.datasets.mnist) is deprecated and will be removed in a future version.\n",
            "Instructions for updating:\n",
            "Please use tf.data to implement this functionality.\n",
            "Extracting MNIST_data/train-images-idx3-ubyte.gz\n",
            "Successfully downloaded train-labels-idx1-ubyte.gz 28881 bytes.\n",
            "WARNING:tensorflow:From /usr/local/lib/python2.7/dist-packages/tensorflow/contrib/learn/python/learn/datasets/mnist.py:267: extract_labels (from tensorflow.contrib.learn.python.learn.datasets.mnist) is deprecated and will be removed in a future version.\n",
            "Instructions for updating:\n",
            "Please use tf.data to implement this functionality.\n",
            "Extracting MNIST_data/train-labels-idx1-ubyte.gz\n",
            "WARNING:tensorflow:From /usr/local/lib/python2.7/dist-packages/tensorflow/contrib/learn/python/learn/datasets/mnist.py:110: dense_to_one_hot (from tensorflow.contrib.learn.python.learn.datasets.mnist) is deprecated and will be removed in a future version.\n",
            "Instructions for updating:\n",
            "Please use tf.one_hot on tensors.\n",
            "Successfully downloaded t10k-images-idx3-ubyte.gz 1648877 bytes.\n",
            "Extracting MNIST_data/t10k-images-idx3-ubyte.gz\n",
            "Successfully downloaded t10k-labels-idx1-ubyte.gz 4542 bytes.\n",
            "Extracting MNIST_data/t10k-labels-idx1-ubyte.gz\n",
            "WARNING:tensorflow:From /usr/local/lib/python2.7/dist-packages/tensorflow/contrib/learn/python/learn/datasets/mnist.py:290: __init__ (from tensorflow.contrib.learn.python.learn.datasets.mnist) is deprecated and will be removed in a future version.\n",
            "Instructions for updating:\n",
            "Please use alternatives such as official/mnist/dataset.py from tensorflow/models.\n",
            "WARNING:tensorflow:From /usr/local/lib/python2.7/dist-packages/tensorflow/python/framework/op_def_library.py:263: colocate_with (from tensorflow.python.framework.ops) is deprecated and will be removed in a future version.\n",
            "Instructions for updating:\n",
            "Colocations handled automatically by placer.\n",
            "WARNING:tensorflow:From /usr/local/lib/python2.7/dist-packages/tensorflow/python/ops/math_ops.py:3066: to_int32 (from tensorflow.python.ops.math_ops) is deprecated and will be removed in a future version.\n",
            "Instructions for updating:\n",
            "Use tf.cast instead.\n"
          ],
          "name": "stdout"
        }
      ]
    },
    {
      "metadata": {
        "id": "mOjlY5XT-5h_",
        "colab_type": "code",
        "colab": {}
      },
      "cell_type": "code",
      "source": [
        "\n",
        "# session\n",
        "with tf.Session() as sess:\n",
        "    \n",
        "    # initialize variables\n",
        "    sess.run( init_op )\n",
        "    \n",
        "    # number of batches available\n",
        "    total_batch = int( len( mnist.train.labels)/batch_size )\n",
        "    \n",
        "    # iterating through the data    \n",
        "    for epoch in range( epochs):\n",
        "        avg_cost = 0\n",
        "        for i in range( total_batch):\n",
        "            # read data in batches\n",
        "            batch_x, batch_y = mnist.train.next_batch(batch_size=batch_size)\n",
        "            \n",
        "            # train the classifier\n",
        "            _, c = sess.run( [optimizer, cross_entropy], feed_dict={x:batch_x, y:batch_y})\n",
        "            \n",
        "            # average cost of a batch\n",
        "            avg_cost += c / total_batch\n",
        "        print(\"Epoch:\", (epoch + 1), \"cost =\", \"{:.3f}\".format(avg_cost))\n",
        "    # Acccuracy on test data \n",
        "    print(sess.run(accuracy, feed_dict={x: mnist.test.images, y: mnist.test.labels}))\n",
        "    \n"
      ],
      "execution_count": 0,
      "outputs": []
    }
  ]
}