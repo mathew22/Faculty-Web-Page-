{
  "nbformat": 4,
  "nbformat_minor": 0,
  "metadata": {
    "colab": {
      "name": "example1.ipynb",
      "version": "0.3.2",
      "provenance": [],
      "collapsed_sections": [],
      "include_colab_link": true
    },
    "kernelspec": {
      "name": "python2",
      "display_name": "Python 2"
    }
  },
  "cells": [
    {
      "cell_type": "markdown",
      "metadata": {
        "id": "view-in-github",
        "colab_type": "text"
      },
      "source": [
        "<a href=\"https://colab.research.google.com/github/mathew22/Faculty-Web-Page-/blob/master/example1.ipynb\" target=\"_parent\"><img src=\"https://colab.research.google.com/assets/colab-badge.svg\" alt=\"Open In Colab\"/></a>"
      ]
    },
    {
      "metadata": {
        "id": "NI-JUmp87Le5",
        "colab_type": "code",
        "colab": {}
      },
      "cell_type": "code",
      "source": [
        "import tensorflow as tf\n",
        "import numpy as np"
      ],
      "execution_count": 0,
      "outputs": []
    },
    {
      "metadata": {
        "id": "58zwJZgM8VxB",
        "colab_type": "code",
        "colab": {
          "base_uri": "https://localhost:8080/",
          "height": 91
        },
        "outputId": "ba9582cd-359c-45c9-d14c-86ba0328a4af"
      },
      "cell_type": "code",
      "source": [
        "const = tf.constant(2.0, name='const')\n",
        "\n",
        "b = tf.Variable( 2.0, name='b' )\n",
        "c = tf.Variable( 3.0, name='c' )\n",
        "\n",
        "d = tf.add( b, c, name=\"d\" )\n",
        "e = tf.add( c, const, name=\"e\" )\n",
        "\n",
        "f = tf.multiply( d, e , name=\"f\")\n",
        "\n",
        "\n",
        "init_op = tf.global_variables_initializer()\n",
        "\n"
      ],
      "execution_count": 3,
      "outputs": [
        {
          "output_type": "stream",
          "text": [
            "WARNING:tensorflow:From /usr/local/lib/python2.7/dist-packages/tensorflow/python/framework/op_def_library.py:263: colocate_with (from tensorflow.python.framework.ops) is deprecated and will be removed in a future version.\n",
            "Instructions for updating:\n",
            "Colocations handled automatically by placer.\n"
          ],
          "name": "stdout"
        }
      ]
    },
    {
      "metadata": {
        "id": "_EeVSicN8Xu3",
        "colab_type": "code",
        "colab": {
          "base_uri": "https://localhost:8080/",
          "height": 35
        },
        "outputId": "c4edb7ec-5091-4681-9bb0-042c55d24ca7"
      },
      "cell_type": "code",
      "source": [
        "with tf.Session() as sess:\n",
        "    \n",
        "    sess.run( init_op )\n",
        "    \n",
        "    out = sess.run( f )\n",
        "    \n",
        "    print( \"variable f is {}\".format( out ))"
      ],
      "execution_count": 4,
      "outputs": [
        {
          "output_type": "stream",
          "text": [
            "variable f is 25.0\n"
          ],
          "name": "stdout"
        }
      ]
    }
  ]
}